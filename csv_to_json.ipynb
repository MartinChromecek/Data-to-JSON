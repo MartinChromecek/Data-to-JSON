{
 "cells": [
  {
   "cell_type": "code",
   "execution_count": 31,
   "metadata": {},
   "outputs": [],
   "source": [
    "import os\n",
    "import json\n",
    "import uuid\n",
    "from datetime import date\n",
    "import pandas as pd"
   ]
  },
  {
   "cell_type": "code",
   "execution_count": 32,
   "metadata": {},
   "outputs": [],
   "source": [
    "input_folder = os.path.join(os.getcwd(),\"output_csv\")\n",
    "output_folder = os.path.join(os.getcwd(),\"output_json\")\n",
    "\n",
    "max_length = 500"
   ]
  },
  {
   "cell_type": "code",
   "execution_count": 33,
   "metadata": {},
   "outputs": [],
   "source": [
    "def construct_metadata(date,lang,len):\n",
    "    with open(\"template.json\") as json_file:\n",
    "        template = json.load(json_file)\n",
    "        template[\"metadata\"][\"date\"] = date\n",
    "        template[\"metadata\"][\"language\"] = lang\n",
    "        template[\"metadata\"][\"length\"] = len\n",
    "    return template"
   ]
  },
  {
   "cell_type": "code",
   "execution_count": 34,
   "metadata": {},
   "outputs": [],
   "source": [
    "def convert_to_json(file):\n",
    "    print(f'Processing file: {file}')\n",
    "    file_path = os.path.join(input_folder,file)\n",
    "    df = pd.read_csv(file_path, header=0)\n",
    "    df['UUID'] = df['ID'].apply(lambda _: str(uuid.uuid4()))\n",
    "    df['Length'] = df.apply(lambda row : len(row['Text']), axis = 1)\n",
    "    df = df[(df['Length'] < max_length)]\n",
    "    output_df = df[['UUID','Text']]\n",
    "    metadata = construct_metadata(date.today().strftime(\"%m-%d-%Y\"),file[:-4],len(output_df.index))\n",
    "    data = output_df.to_dict(orient='records')\n",
    "    metadata[\"data\"] = data\n",
    "    output_file = open(os.path.join(output_folder,file[:-4] + \".json\"),\"w\")\n",
    "    json.dump(metadata,output_file,indent=1)"
   ]
  },
  {
   "cell_type": "code",
   "execution_count": 35,
   "metadata": {},
   "outputs": [
    {
     "name": "stdout",
     "output_type": "stream",
     "text": [
      "Processing file: Afrikaans.csv\n"
     ]
    }
   ],
   "source": [
    "for file in os.listdir(input_folder):\n",
    "    convert_to_json(file)\n"
   ]
  }
 ],
 "metadata": {
  "kernelspec": {
   "display_name": "Python 3.10.8 64-bit",
   "language": "python",
   "name": "python3"
  },
  "language_info": {
   "codemirror_mode": {
    "name": "ipython",
    "version": 3
   },
   "file_extension": ".py",
   "mimetype": "text/x-python",
   "name": "python",
   "nbconvert_exporter": "python",
   "pygments_lexer": "ipython3",
   "version": "3.10.8"
  },
  "orig_nbformat": 4,
  "vscode": {
   "interpreter": {
    "hash": "32dfac6bcae82203b1dd8519c976a1bd9fa0ef2b3b0890789701a42bd3b0674e"
   }
  }
 },
 "nbformat": 4,
 "nbformat_minor": 2
}
